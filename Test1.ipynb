{
 "cells": [
  {
   "cell_type": "code",
   "execution_count": null,
   "metadata": {},
   "outputs": [],
   "source": [
    "%pip install --user pdfplumber"
   ]
  },
  {
   "cell_type": "markdown",
   "metadata": {},
   "source": [
    "%pip install --user ipywidgets pymupdf"
   ]
  },
  {
   "cell_type": "markdown",
   "metadata": {},
   "source": [
    "%pip install --user ipywidgets"
   ]
  },
  {
   "cell_type": "code",
   "execution_count": null,
   "metadata": {},
   "outputs": [],
   "source": [
    "%pip install --user reportlab"
   ]
  },
  {
   "cell_type": "code",
   "execution_count": null,
   "metadata": {},
   "outputs": [],
   "source": [
    "import ipywidgets as widgets\n",
    "from IPython.display import display\n",
    "import pdfplumber\n",
    "import fitz  # PyMuPDF\n",
    "from reportlab.pdfgen import canvas\n",
    "from reportlab.lib.pagesizes import letter\n",
    "\n",
    "def extract_data_using_pdfplumber(file_path):\n",
    "    with pdfplumber.open(file_path) as pdf:\n",
    "        first_page = pdf.pages[0]\n",
    "        text = first_page.extract_text(x_tolerance=3, y_tolerance=3)  # Modify tolerance as needed\n",
    "        \n",
    "        # For example, if you know checkbox coordinates\n",
    "        checkboxes = [{\n",
    "            'bbox': (100, 200, 110, 210),  # Example coordinates\n",
    "            'label': 'Checkbox 1'\n",
    "        }]\n",
    "        extracted_data = []\n",
    "        for checkbox in checkboxes:\n",
    "            # Get words near the checkbox, this needs precise coordinates\n",
    "            words = first_page.extract_words()\n",
    "            for word in words:\n",
    "                if word['x0'] >= checkbox['bbox'][0] and word['x1'] <= checkbox['bbox'][2] and word['top'] >= checkbox['bbox'][1] and word['bottom'] <= checkbox['bbox'][3]:\n",
    "                    extracted_data.append((checkbox['label'], 'Checked'))  # Simulated check state\n",
    "        return text, extracted_data\n",
    "\n",
    "def create_summary_document(output_path, extracted_data):\n",
    "    c = canvas.Canvas(output_path, pagesize=letter)\n",
    "    text_object = c.beginText(40, 750)\n",
    "    text_object.setFont(\"Helvetica\", 12)\n",
    "    for data in extracted_data:\n",
    "        text_object.textLine(f\"{data[0]}: {data[1]}\")\n",
    "    c.drawText(text_object)\n",
    "    c.save()\n",
    "\n",
    "def on_file_upload(change):\n",
    "    uploaded_files = change.new\n",
    "    if uploaded_files:\n",
    "        for file_info in uploaded_files.values():\n",
    "            file_path = \"/tmp/\" + file_info['metadata']['name']\n",
    "            with open(file_path, 'wb') as f:\n",
    "                f.write(file_info['content'])\n",
    "            extracted_text, extracted_data = extract_data_using_pdfplumber(file_path)\n",
    "            print(\"Extracted Text:\")\n",
    "            print(extracted_text)\n",
    "            print(\"Extracted Data:\")\n",
    "            for data in extracted_data:\n",
    "                print(data)\n",
    "            # Create a summary document with the extracted data\n",
    "            create_summary_document(\"summary_output.pdf\", extracted_data)\n",
    "\n",
    "upload_button = widgets.FileUpload(\n",
    "    accept='.pdf',\n",
    "    multiple=False\n",
    ")\n",
    "upload_button.observe(on_file_upload, names='data')\n",
    "display(upload_button)\n"
   ]
  }
 ],
 "metadata": {
  "language_info": {
   "name": "python"
  }
 },
 "nbformat": 4,
 "nbformat_minor": 2
}
