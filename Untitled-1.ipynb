{
 "cells": [
  {
   "cell_type": "code",
   "execution_count": null,
   "metadata": {},
   "outputs": [],
   "source": [
    "%pip install --user ipywidgets pymupdf\n"
   ]
  },
  {
   "cell_type": "markdown",
   "metadata": {},
   "source": [
    "%pip install --user ipywidgets\n"
   ]
  },
  {
   "cell_type": "code",
   "execution_count": null,
   "metadata": {},
   "outputs": [],
   "source": [
    "import ipywidgets as widgets\n",
    "from IPython.display import display\n",
    "import fitz  # din PyMuPDF\n",
    "\n",
    "\n",
    "def extract_text_from_pdf(file_path):\n",
    "    doc = fitz.open(file_path)\n",
    "    text = \"\"\n",
    "    for page in doc:\n",
    "        text += page.get_text()\n",
    "    return text\n",
    "\n",
    "def on_file_upload(change):\n",
    "   \n",
    "    uploaded_file = change['new']\n",
    "    if uploaded_file:\n",
    "        file_info = uploaded_file[0]\n",
    "        file_path = f\"/tmp/{file_info['name']}\"\n",
    "        \n",
    "       \n",
    "        with open(file_path, 'wb') as f:\n",
    "            f.write(file_info['content'])\n",
    "        \n",
    "        \n",
    "        extracted_text = extract_text_from_pdf(file_path)\n",
    "        print(extracted_text)\n",
    "\n",
    "upload_button = widgets.FileUpload(\n",
    "    accept='.pdf',  \n",
    "    multiple=False \n",
    ")\n",
    "upload_button.observe(on_file_upload, names='value')\n",
    "\n",
    "display(upload_button)\n"
   ]
  }
 ],
 "metadata": {
  "language_info": {
   "name": "python"
  }
 },
 "nbformat": 4,
 "nbformat_minor": 2
}
